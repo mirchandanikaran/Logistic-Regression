{
 "cells": [
  {
   "cell_type": "code",
   "execution_count": 1,
   "id": "17693ebe",
   "metadata": {},
   "outputs": [],
   "source": [
    "import numpy as np\n",
    "import matplotlib.pyplot as plt\n",
    "import pandas as pd\n",
    "import seaborn as sns\n",
    "%matplotlib inline\n",
    "import math"
   ]
  },
  {
   "cell_type": "code",
   "execution_count": 4,
   "id": "f7ed4433",
   "metadata": {},
   "outputs": [],
   "source": [
    "data=pd.read_csv(\"/home/skyline/Downloads/datasets/migration.csv\")"
   ]
  },
  {
   "cell_type": "code",
   "execution_count": 5,
   "id": "8b4726dd",
   "metadata": {},
   "outputs": [
    {
     "data": {
      "text/plain": [
       "(500, 5)"
      ]
     },
     "execution_count": 5,
     "metadata": {},
     "output_type": "execute_result"
    }
   ],
   "source": [
    "data.shape"
   ]
  },
  {
   "cell_type": "code",
   "execution_count": 6,
   "id": "af9ffda7",
   "metadata": {},
   "outputs": [
    {
     "data": {
      "text/html": [
       "<div>\n",
       "<style scoped>\n",
       "    .dataframe tbody tr th:only-of-type {\n",
       "        vertical-align: middle;\n",
       "    }\n",
       "\n",
       "    .dataframe tbody tr th {\n",
       "        vertical-align: top;\n",
       "    }\n",
       "\n",
       "    .dataframe thead th {\n",
       "        text-align: right;\n",
       "    }\n",
       "</style>\n",
       "<table border=\"1\" class=\"dataframe\">\n",
       "  <thead>\n",
       "    <tr style=\"text-align: right;\">\n",
       "      <th></th>\n",
       "      <th>agri_field_size</th>\n",
       "      <th>members_family</th>\n",
       "      <th>caste</th>\n",
       "      <th>alt_occu</th>\n",
       "      <th>migration</th>\n",
       "    </tr>\n",
       "  </thead>\n",
       "  <tbody>\n",
       "    <tr>\n",
       "      <th>count</th>\n",
       "      <td>500.000000</td>\n",
       "      <td>500.000000</td>\n",
       "      <td>500.000000</td>\n",
       "      <td>500.000000</td>\n",
       "      <td>500.000000</td>\n",
       "    </tr>\n",
       "    <tr>\n",
       "      <th>mean</th>\n",
       "      <td>40.944000</td>\n",
       "      <td>5.856000</td>\n",
       "      <td>2.282000</td>\n",
       "      <td>0.526000</td>\n",
       "      <td>0.474000</td>\n",
       "    </tr>\n",
       "    <tr>\n",
       "      <th>std</th>\n",
       "      <td>10.162648</td>\n",
       "      <td>2.296478</td>\n",
       "      <td>0.779546</td>\n",
       "      <td>0.499824</td>\n",
       "      <td>0.499824</td>\n",
       "    </tr>\n",
       "    <tr>\n",
       "      <th>min</th>\n",
       "      <td>13.000000</td>\n",
       "      <td>1.000000</td>\n",
       "      <td>1.000000</td>\n",
       "      <td>0.000000</td>\n",
       "      <td>0.000000</td>\n",
       "    </tr>\n",
       "    <tr>\n",
       "      <th>25%</th>\n",
       "      <td>34.000000</td>\n",
       "      <td>4.000000</td>\n",
       "      <td>2.000000</td>\n",
       "      <td>0.000000</td>\n",
       "      <td>0.000000</td>\n",
       "    </tr>\n",
       "    <tr>\n",
       "      <th>50%</th>\n",
       "      <td>41.000000</td>\n",
       "      <td>6.000000</td>\n",
       "      <td>2.000000</td>\n",
       "      <td>1.000000</td>\n",
       "      <td>0.000000</td>\n",
       "    </tr>\n",
       "    <tr>\n",
       "      <th>75%</th>\n",
       "      <td>48.000000</td>\n",
       "      <td>8.000000</td>\n",
       "      <td>3.000000</td>\n",
       "      <td>1.000000</td>\n",
       "      <td>1.000000</td>\n",
       "    </tr>\n",
       "    <tr>\n",
       "      <th>max</th>\n",
       "      <td>69.000000</td>\n",
       "      <td>10.000000</td>\n",
       "      <td>3.000000</td>\n",
       "      <td>1.000000</td>\n",
       "      <td>1.000000</td>\n",
       "    </tr>\n",
       "  </tbody>\n",
       "</table>\n",
       "</div>"
      ],
      "text/plain": [
       "       agri_field_size  members_family       caste    alt_occu   migration\n",
       "count       500.000000      500.000000  500.000000  500.000000  500.000000\n",
       "mean         40.944000        5.856000    2.282000    0.526000    0.474000\n",
       "std          10.162648        2.296478    0.779546    0.499824    0.499824\n",
       "min          13.000000        1.000000    1.000000    0.000000    0.000000\n",
       "25%          34.000000        4.000000    2.000000    0.000000    0.000000\n",
       "50%          41.000000        6.000000    2.000000    1.000000    0.000000\n",
       "75%          48.000000        8.000000    3.000000    1.000000    1.000000\n",
       "max          69.000000       10.000000    3.000000    1.000000    1.000000"
      ]
     },
     "execution_count": 6,
     "metadata": {},
     "output_type": "execute_result"
    }
   ],
   "source": [
    "data.describe()"
   ]
  },
  {
   "cell_type": "code",
   "execution_count": 7,
   "id": "abb862ac",
   "metadata": {},
   "outputs": [
    {
     "data": {
      "text/html": [
       "<div>\n",
       "<style scoped>\n",
       "    .dataframe tbody tr th:only-of-type {\n",
       "        vertical-align: middle;\n",
       "    }\n",
       "\n",
       "    .dataframe tbody tr th {\n",
       "        vertical-align: top;\n",
       "    }\n",
       "\n",
       "    .dataframe thead th {\n",
       "        text-align: right;\n",
       "    }\n",
       "</style>\n",
       "<table border=\"1\" class=\"dataframe\">\n",
       "  <thead>\n",
       "    <tr style=\"text-align: right;\">\n",
       "      <th></th>\n",
       "      <th>agri_field_size</th>\n",
       "      <th>members_family</th>\n",
       "      <th>caste</th>\n",
       "      <th>alt_occu</th>\n",
       "      <th>migration</th>\n",
       "    </tr>\n",
       "  </thead>\n",
       "  <tbody>\n",
       "    <tr>\n",
       "      <th>0</th>\n",
       "      <td>37</td>\n",
       "      <td>4</td>\n",
       "      <td>1</td>\n",
       "      <td>0</td>\n",
       "      <td>1</td>\n",
       "    </tr>\n",
       "    <tr>\n",
       "      <th>1</th>\n",
       "      <td>28</td>\n",
       "      <td>7</td>\n",
       "      <td>3</td>\n",
       "      <td>0</td>\n",
       "      <td>1</td>\n",
       "    </tr>\n",
       "    <tr>\n",
       "      <th>2</th>\n",
       "      <td>43</td>\n",
       "      <td>5</td>\n",
       "      <td>3</td>\n",
       "      <td>1</td>\n",
       "      <td>0</td>\n",
       "    </tr>\n",
       "    <tr>\n",
       "      <th>3</th>\n",
       "      <td>53</td>\n",
       "      <td>8</td>\n",
       "      <td>2</td>\n",
       "      <td>0</td>\n",
       "      <td>1</td>\n",
       "    </tr>\n",
       "    <tr>\n",
       "      <th>4</th>\n",
       "      <td>52</td>\n",
       "      <td>9</td>\n",
       "      <td>2</td>\n",
       "      <td>0</td>\n",
       "      <td>1</td>\n",
       "    </tr>\n",
       "    <tr>\n",
       "      <th>5</th>\n",
       "      <td>58</td>\n",
       "      <td>8</td>\n",
       "      <td>1</td>\n",
       "      <td>0</td>\n",
       "      <td>0</td>\n",
       "    </tr>\n",
       "    <tr>\n",
       "      <th>6</th>\n",
       "      <td>19</td>\n",
       "      <td>1</td>\n",
       "      <td>3</td>\n",
       "      <td>0</td>\n",
       "      <td>1</td>\n",
       "    </tr>\n",
       "    <tr>\n",
       "      <th>7</th>\n",
       "      <td>38</td>\n",
       "      <td>6</td>\n",
       "      <td>1</td>\n",
       "      <td>0</td>\n",
       "      <td>1</td>\n",
       "    </tr>\n",
       "  </tbody>\n",
       "</table>\n",
       "</div>"
      ],
      "text/plain": [
       "   agri_field_size  members_family  caste  alt_occu  migration\n",
       "0               37               4      1         0          1\n",
       "1               28               7      3         0          1\n",
       "2               43               5      3         1          0\n",
       "3               53               8      2         0          1\n",
       "4               52               9      2         0          1\n",
       "5               58               8      1         0          0\n",
       "6               19               1      3         0          1\n",
       "7               38               6      1         0          1"
      ]
     },
     "execution_count": 7,
     "metadata": {},
     "output_type": "execute_result"
    }
   ],
   "source": [
    "data.head(8)"
   ]
  },
  {
   "cell_type": "code",
   "execution_count": 8,
   "id": "9559dd28",
   "metadata": {},
   "outputs": [
    {
     "data": {
      "text/plain": [
       "['agri_field_size', 'members_family', 'caste', 'alt_occu', 'migration']"
      ]
     },
     "execution_count": 8,
     "metadata": {},
     "output_type": "execute_result"
    }
   ],
   "source": [
    "list(data.columns)"
   ]
  },
  {
   "cell_type": "markdown",
   "id": "06943232",
   "metadata": {},
   "source": [
    "#####  Linear Probability Model (P = a + b1*X1 + B2*X2 + B3*X3)"
   ]
  },
  {
   "cell_type": "markdown",
   "id": "8221d04d",
   "metadata": {},
   "source": [
    "# Model 1"
   ]
  },
  {
   "cell_type": "code",
   "execution_count": 51,
   "id": "c579248c",
   "metadata": {},
   "outputs": [
    {
     "data": {
      "text/html": [
       "<table class=\"simpletable\">\n",
       "<caption>OLS Regression Results</caption>\n",
       "<tr>\n",
       "  <th>Dep. Variable:</th>        <td>migration</td>    <th>  R-squared:         </th> <td>   0.501</td>\n",
       "</tr>\n",
       "<tr>\n",
       "  <th>Model:</th>                   <td>OLS</td>       <th>  Adj. R-squared:    </th> <td>   0.500</td>\n",
       "</tr>\n",
       "<tr>\n",
       "  <th>Method:</th>             <td>Least Squares</td>  <th>  F-statistic:       </th> <td>   500.7</td>\n",
       "</tr>\n",
       "<tr>\n",
       "  <th>Date:</th>             <td>Thu, 11 Nov 2021</td> <th>  Prob (F-statistic):</th> <td>2.83e-77</td>\n",
       "</tr>\n",
       "<tr>\n",
       "  <th>Time:</th>                 <td>19:19:24</td>     <th>  Log-Likelihood:    </th> <td> -188.25</td>\n",
       "</tr>\n",
       "<tr>\n",
       "  <th>No. Observations:</th>      <td>   500</td>      <th>  AIC:               </th> <td>   380.5</td>\n",
       "</tr>\n",
       "<tr>\n",
       "  <th>Df Residuals:</th>          <td>   498</td>      <th>  BIC:               </th> <td>   388.9</td>\n",
       "</tr>\n",
       "<tr>\n",
       "  <th>Df Model:</th>              <td>     1</td>      <th>                     </th>     <td> </td>   \n",
       "</tr>\n",
       "<tr>\n",
       "  <th>Covariance Type:</th>      <td>nonrobust</td>    <th>                     </th>     <td> </td>   \n",
       "</tr>\n",
       "</table>\n",
       "<table class=\"simpletable\">\n",
       "<tr>\n",
       "         <td></td>            <th>coef</th>     <th>std err</th>      <th>t</th>      <th>P>|t|</th>  <th>[0.025</th>    <th>0.975]</th>  \n",
       "</tr>\n",
       "<tr>\n",
       "  <th>const</th>           <td>    1.8999</td> <td>    0.066</td> <td>   28.939</td> <td> 0.000</td> <td>    1.771</td> <td>    2.029</td>\n",
       "</tr>\n",
       "<tr>\n",
       "  <th>agri_field_size</th> <td>   -0.0348</td> <td>    0.002</td> <td>  -22.377</td> <td> 0.000</td> <td>   -0.038</td> <td>   -0.032</td>\n",
       "</tr>\n",
       "</table>\n",
       "<table class=\"simpletable\">\n",
       "<tr>\n",
       "  <th>Omnibus:</th>       <td>14.955</td> <th>  Durbin-Watson:     </th> <td>   2.045</td>\n",
       "</tr>\n",
       "<tr>\n",
       "  <th>Prob(Omnibus):</th> <td> 0.001</td> <th>  Jarque-Bera (JB):  </th> <td>   7.580</td>\n",
       "</tr>\n",
       "<tr>\n",
       "  <th>Skew:</th>          <td>-0.028</td> <th>  Prob(JB):          </th> <td>  0.0226</td>\n",
       "</tr>\n",
       "<tr>\n",
       "  <th>Kurtosis:</th>      <td> 2.399</td> <th>  Cond. No.          </th> <td>    175.</td>\n",
       "</tr>\n",
       "</table><br/><br/>Notes:<br/>[1] Standard Errors assume that the covariance matrix of the errors is correctly specified."
      ],
      "text/plain": [
       "<class 'statsmodels.iolib.summary.Summary'>\n",
       "\"\"\"\n",
       "                            OLS Regression Results                            \n",
       "==============================================================================\n",
       "Dep. Variable:              migration   R-squared:                       0.501\n",
       "Model:                            OLS   Adj. R-squared:                  0.500\n",
       "Method:                 Least Squares   F-statistic:                     500.7\n",
       "Date:                Thu, 11 Nov 2021   Prob (F-statistic):           2.83e-77\n",
       "Time:                        19:19:24   Log-Likelihood:                -188.25\n",
       "No. Observations:                 500   AIC:                             380.5\n",
       "Df Residuals:                     498   BIC:                             388.9\n",
       "Df Model:                           1                                         \n",
       "Covariance Type:            nonrobust                                         \n",
       "===================================================================================\n",
       "                      coef    std err          t      P>|t|      [0.025      0.975]\n",
       "-----------------------------------------------------------------------------------\n",
       "const               1.8999      0.066     28.939      0.000       1.771       2.029\n",
       "agri_field_size    -0.0348      0.002    -22.377      0.000      -0.038      -0.032\n",
       "==============================================================================\n",
       "Omnibus:                       14.955   Durbin-Watson:                   2.045\n",
       "Prob(Omnibus):                  0.001   Jarque-Bera (JB):                7.580\n",
       "Skew:                          -0.028   Prob(JB):                       0.0226\n",
       "Kurtosis:                       2.399   Cond. No.                         175.\n",
       "==============================================================================\n",
       "\n",
       "Notes:\n",
       "[1] Standard Errors assume that the covariance matrix of the errors is correctly specified.\n",
       "\"\"\""
      ]
     },
     "execution_count": 51,
     "metadata": {},
     "output_type": "execute_result"
    }
   ],
   "source": [
    "import statsmodels.api as sm\n",
    "x = data ['agri_field_size']\n",
    "y = data ['migration']\n",
    "x = sm.add_constant(x)\n",
    "model1 = sm.OLS(y, x).fit()\n",
    "predictions = model1.predict(x) \n",
    "\n",
    "# Print out the statistics\n",
    "model.summary()"
   ]
  },
  {
   "cell_type": "markdown",
   "id": "85fd7738",
   "metadata": {},
   "source": [
    "The coefficient of Agricultural Field Size is -0.0348. This means that when 1 unit of Field Size increases, the probablity of migration decreases by 3.48%. Since the p-value in this case is less than 0.05, this claim is valid."
   ]
  },
  {
   "cell_type": "markdown",
   "id": "f174d6aa",
   "metadata": {},
   "source": [
    "We will create another model, wherein we consider all the variables as independent variables to see the impact of each variable on the probability."
   ]
  },
  {
   "cell_type": "markdown",
   "id": "ee42869f",
   "metadata": {},
   "source": [
    "# Model 2"
   ]
  },
  {
   "cell_type": "code",
   "execution_count": 15,
   "id": "241b96d0",
   "metadata": {},
   "outputs": [
    {
     "data": {
      "text/html": [
       "<table class=\"simpletable\">\n",
       "<caption>OLS Regression Results</caption>\n",
       "<tr>\n",
       "  <th>Dep. Variable:</th>        <td>migration</td>    <th>  R-squared:         </th> <td>   0.501</td>\n",
       "</tr>\n",
       "<tr>\n",
       "  <th>Model:</th>                   <td>OLS</td>       <th>  Adj. R-squared:    </th> <td>   0.500</td>\n",
       "</tr>\n",
       "<tr>\n",
       "  <th>Method:</th>             <td>Least Squares</td>  <th>  F-statistic:       </th> <td>   500.7</td>\n",
       "</tr>\n",
       "<tr>\n",
       "  <th>Date:</th>             <td>Thu, 11 Nov 2021</td> <th>  Prob (F-statistic):</th> <td>2.83e-77</td>\n",
       "</tr>\n",
       "<tr>\n",
       "  <th>Time:</th>                 <td>18:57:15</td>     <th>  Log-Likelihood:    </th> <td> -188.25</td>\n",
       "</tr>\n",
       "<tr>\n",
       "  <th>No. Observations:</th>      <td>   500</td>      <th>  AIC:               </th> <td>   380.5</td>\n",
       "</tr>\n",
       "<tr>\n",
       "  <th>Df Residuals:</th>          <td>   498</td>      <th>  BIC:               </th> <td>   388.9</td>\n",
       "</tr>\n",
       "<tr>\n",
       "  <th>Df Model:</th>              <td>     1</td>      <th>                     </th>     <td> </td>   \n",
       "</tr>\n",
       "<tr>\n",
       "  <th>Covariance Type:</th>      <td>nonrobust</td>    <th>                     </th>     <td> </td>   \n",
       "</tr>\n",
       "</table>\n",
       "<table class=\"simpletable\">\n",
       "<tr>\n",
       "         <td></td>            <th>coef</th>     <th>std err</th>      <th>t</th>      <th>P>|t|</th>  <th>[0.025</th>    <th>0.975]</th>  \n",
       "</tr>\n",
       "<tr>\n",
       "  <th>const</th>           <td>    1.8999</td> <td>    0.066</td> <td>   28.939</td> <td> 0.000</td> <td>    1.771</td> <td>    2.029</td>\n",
       "</tr>\n",
       "<tr>\n",
       "  <th>agri_field_size</th> <td>   -0.0348</td> <td>    0.002</td> <td>  -22.377</td> <td> 0.000</td> <td>   -0.038</td> <td>   -0.032</td>\n",
       "</tr>\n",
       "</table>\n",
       "<table class=\"simpletable\">\n",
       "<tr>\n",
       "  <th>Omnibus:</th>       <td>14.955</td> <th>  Durbin-Watson:     </th> <td>   2.045</td>\n",
       "</tr>\n",
       "<tr>\n",
       "  <th>Prob(Omnibus):</th> <td> 0.001</td> <th>  Jarque-Bera (JB):  </th> <td>   7.580</td>\n",
       "</tr>\n",
       "<tr>\n",
       "  <th>Skew:</th>          <td>-0.028</td> <th>  Prob(JB):          </th> <td>  0.0226</td>\n",
       "</tr>\n",
       "<tr>\n",
       "  <th>Kurtosis:</th>      <td> 2.399</td> <th>  Cond. No.          </th> <td>    175.</td>\n",
       "</tr>\n",
       "</table><br/><br/>Notes:<br/>[1] Standard Errors assume that the covariance matrix of the errors is correctly specified."
      ],
      "text/plain": [
       "<class 'statsmodels.iolib.summary.Summary'>\n",
       "\"\"\"\n",
       "                            OLS Regression Results                            \n",
       "==============================================================================\n",
       "Dep. Variable:              migration   R-squared:                       0.501\n",
       "Model:                            OLS   Adj. R-squared:                  0.500\n",
       "Method:                 Least Squares   F-statistic:                     500.7\n",
       "Date:                Thu, 11 Nov 2021   Prob (F-statistic):           2.83e-77\n",
       "Time:                        18:57:15   Log-Likelihood:                -188.25\n",
       "No. Observations:                 500   AIC:                             380.5\n",
       "Df Residuals:                     498   BIC:                             388.9\n",
       "Df Model:                           1                                         \n",
       "Covariance Type:            nonrobust                                         \n",
       "===================================================================================\n",
       "                      coef    std err          t      P>|t|      [0.025      0.975]\n",
       "-----------------------------------------------------------------------------------\n",
       "const               1.8999      0.066     28.939      0.000       1.771       2.029\n",
       "agri_field_size    -0.0348      0.002    -22.377      0.000      -0.038      -0.032\n",
       "==============================================================================\n",
       "Omnibus:                       14.955   Durbin-Watson:                   2.045\n",
       "Prob(Omnibus):                  0.001   Jarque-Bera (JB):                7.580\n",
       "Skew:                          -0.028   Prob(JB):                       0.0226\n",
       "Kurtosis:                       2.399   Cond. No.                         175.\n",
       "==============================================================================\n",
       "\n",
       "Notes:\n",
       "[1] Standard Errors assume that the covariance matrix of the errors is correctly specified.\n",
       "\"\"\""
      ]
     },
     "execution_count": 15,
     "metadata": {},
     "output_type": "execute_result"
    }
   ],
   "source": [
    "import statsmodels.api as sm\n",
    "x = data [['agri_field_size', 'members_family', 'caste', 'alt_occu']]\n",
    "y = data ['migration']\n",
    "x = sm.add_constant(x)\n",
    "model2 = sm.OLS(y, x).fit()\n",
    "predictions = model2.predict(x) \n",
    "\n",
    "# Print out the statistics\n",
    "model1.summary()"
   ]
  },
  {
   "cell_type": "markdown",
   "id": "d3c996f8",
   "metadata": {},
   "source": [
    "Here, all the variables except caste are significantly impacting the probability. "
   ]
  },
  {
   "cell_type": "markdown",
   "id": "78fd3285",
   "metadata": {},
   "source": [
    "# Regression Diagnostics"
   ]
  },
  {
   "cell_type": "code",
   "execution_count": 18,
   "id": "a6d1882a",
   "metadata": {},
   "outputs": [],
   "source": [
    "%matplotlib inline\n",
    "from statsmodels.compat import lzip\n",
    "import numpy as np\n",
    "import pandas as pd\n",
    "import statsmodels.formula.api as smf\n",
    "import statsmodels.stats.api as sm\n",
    "import matplotlib.pyplot as plt\n"
   ]
  },
  {
   "cell_type": "markdown",
   "id": "f74cb2d4",
   "metadata": {},
   "source": [
    "# Normality of the residuals"
   ]
  },
  {
   "cell_type": "code",
   "execution_count": 20,
   "id": "a856de48",
   "metadata": {},
   "outputs": [
    {
     "data": {
      "text/plain": [
       "[('Jarque-Bera', 7.579798894090441),\n",
       " ('Chi^2 two-tail prob.', 0.022597874019887745),\n",
       " ('Skew', -0.02811222687869146),\n",
       " ('Kurtosis', 2.3994426274567724)]"
      ]
     },
     "execution_count": 20,
     "metadata": {},
     "output_type": "execute_result"
    }
   ],
   "source": [
    "name = [\"Jarque-Bera\", \"Chi^2 two-tail prob.\", \"Skew\", \"Kurtosis\"]\n",
    "test = sm.jarque_bera(model1.resid)\n",
    "lzip(name, test)"
   ]
  },
  {
   "cell_type": "code",
   "execution_count": 21,
   "id": "681a0f6e",
   "metadata": {},
   "outputs": [
    {
     "data": {
      "text/plain": [
       "[<matplotlib.lines.Line2D at 0x7f28b88854c0>]"
      ]
     },
     "execution_count": 21,
     "metadata": {},
     "output_type": "execute_result"
    },
    {
     "data": {
      "image/png": "[encoded data removed]",
      "text/plain": [
       "<Figure size 432x288 with 1 Axes>"
      ]
     },
     "metadata": {
      "needs_background": "light"
     },
     "output_type": "display_data"
    }
   ],
   "source": [
    "plt.plot(model1.resid)"
   ]
  },
  {
   "cell_type": "markdown",
   "id": "b2cb0d74",
   "metadata": {},
   "source": [
    "###### Omnibus/Prob(Omnibus) – a test of skewness & kurtosis of residual --> a value close to zero indicate normalcy. The Prob (Omnibus) performs a statistical test indicating the probability that the residuals are normally distributed --> expected value close to 1. A linear regression approach would probably be better than random guessing but likely not as good as a nonlinear approach."
   ]
  },
  {
   "cell_type": "code",
   "execution_count": null,
   "id": "4744969b",
   "metadata": {},
   "outputs": [],
   "source": [
    "name = [\"Chi^2\", \"Two-tail probability\"]\n",
    "test = sms.omni_normtest(model1.resid)\n",
    "lzip(name, test)"
   ]
  },
  {
   "cell_type": "code",
   "execution_count": null,
   "id": "7d57fc60",
   "metadata": {},
   "outputs": [],
   "source": [
    "from statsmodels.graphics.regressionplots import plot_leverage_resid2\n",
    "\n",
    "fig, ax = plt.subplots(figsize=(8, 6))\n",
    "fig = plot_leverage_resid2(model2, ax=ax)"
   ]
  },
  {
   "cell_type": "markdown",
   "id": "9c8628c8",
   "metadata": {},
   "source": [
    "# Multicollinearity"
   ]
  },
  {
   "cell_type": "code",
   "execution_count": 22,
   "id": "8e3c68de",
   "metadata": {},
   "outputs": [
    {
     "name": "stdout",
     "output_type": "stream",
     "text": [
      "           feature        VIF\n",
      "0            const  33.162266\n",
      "1  agri_field_size   1.004786\n",
      "2   members_family   1.004198\n",
      "3            caste   1.002366\n",
      "4         alt_occu   1.007765\n"
     ]
    }
   ],
   "source": [
    "from statsmodels.stats.outliers_influence import variance_inflation_factor  \n",
    " \n",
    "# VIF dataframe\n",
    "vif_data = pd.DataFrame()\n",
    "vif_data[\"feature\"] = x.columns\n",
    "  \n",
    "# calculating VIF for each feature\n",
    "vif_data[\"VIF\"] = [variance_inflation_factor(x.values, i)\n",
    "                          for i in range(len(x.columns))]\n",
    "  \n",
    "print(vif_data)"
   ]
  },
  {
   "cell_type": "markdown",
   "id": "2361f396",
   "metadata": {},
   "source": [
    "# Heteroskedasticity"
   ]
  },
  {
   "cell_type": "markdown",
   "id": "e86abf55",
   "metadata": {},
   "source": [
    "Errors should have constant variance. If not, it is the problem of heteroskedasticity. It is treated by transforming the variables e.g. using log.\n",
    "\n",
    "It is tested by the Breuschpagan Test."
   ]
  },
  {
   "cell_type": "code",
   "execution_count": 24,
   "id": "cb32679b",
   "metadata": {},
   "outputs": [
    {
     "data": {
      "text/plain": [
       "[('Lagrange multiplier statistic', 2.6391431504473872),\n",
       " ('p-value', 0.1042597615082748),\n",
       " ('f-value', 2.6425346321943297),\n",
       " ('f p-value', 0.10467006909702448)]"
      ]
     },
     "execution_count": 24,
     "metadata": {},
     "output_type": "execute_result"
    }
   ],
   "source": [
    "name = [\"Lagrange multiplier statistic\", \"p-value\", \"f-value\", \"f p-value\"]\n",
    "test = sm.het_breuschpagan(model1.resid, model1.model.exog)\n",
    "lzip(name, test)"
   ]
  },
  {
   "cell_type": "markdown",
   "id": "81aa9f84",
   "metadata": {},
   "source": [
    "### Goldfeld-Quandt test"
   ]
  },
  {
   "cell_type": "code",
   "execution_count": 27,
   "id": "928da38d",
   "metadata": {},
   "outputs": [
    {
     "data": {
      "text/plain": [
       "[('F statistic', 0.8401615229872168), ('p-value', 0.9145161373213795)]"
      ]
     },
     "execution_count": 27,
     "metadata": {},
     "output_type": "execute_result"
    }
   ],
   "source": [
    "name = [\"F statistic\", \"p-value\"]\n",
    "test = sm.het_goldfeldquandt(model1.resid, model1.model.exog)\n",
    "lzip(name, test)"
   ]
  },
  {
   "cell_type": "markdown",
   "id": "4c04791d",
   "metadata": {},
   "source": [
    "#### Linearity: Harvey-Collier multiplier test for Null hypothesis that the linear specification is correct:"
   ]
  },
  {
   "cell_type": "code",
   "execution_count": 29,
   "id": "b3061913",
   "metadata": {},
   "outputs": [
    {
     "data": {
      "text/plain": [
       "[('t value', -0.9137096137108411), ('p value', 0.3613133836261211)]"
      ]
     },
     "execution_count": 29,
     "metadata": {},
     "output_type": "execute_result"
    }
   ],
   "source": [
    "name = [\"t value\", \"p value\"]\n",
    "test = sm.linear_harvey_collier(model1)\n",
    "lzip(name, test)"
   ]
  },
  {
   "cell_type": "markdown",
   "id": "096e3119",
   "metadata": {},
   "source": [
    "# Logistic Regression"
   ]
  },
  {
   "cell_type": "code",
   "execution_count": 31,
   "id": "1b15d4f2",
   "metadata": {},
   "outputs": [],
   "source": [
    "from sklearn import preprocessing\n",
    "import matplotlib.pyplot as plt \n",
    "plt.rc(\"font\", size=14)\n",
    "from sklearn.linear_model import LogisticRegression\n",
    "from sklearn.model_selection import train_test_split\n",
    "import seaborn as sns\n",
    "sns.set(style=\"white\")\n",
    "sns.set(style=\"whitegrid\", color_codes=True)"
   ]
  },
  {
   "cell_type": "code",
   "execution_count": 32,
   "id": "a1306e38",
   "metadata": {},
   "outputs": [
    {
     "name": "stdout",
     "output_type": "stream",
     "text": [
      "(500, 5)\n",
      "['agri_field_size', 'members_family', 'caste', 'alt_occu', 'migration']\n"
     ]
    }
   ],
   "source": [
    "data=pd.read_csv(\"/home/skyline/Downloads/datasets/migration.csv\")\n",
    "data = data.dropna()\n",
    "print(data.shape)\n",
    "print(list(data.columns))"
   ]
  },
  {
   "cell_type": "code",
   "execution_count": 33,
   "id": "e1849fa0",
   "metadata": {},
   "outputs": [
    {
     "data": {
      "text/plain": [
       "0    263\n",
       "1    237\n",
       "Name: migration, dtype: int64"
      ]
     },
     "execution_count": 33,
     "metadata": {},
     "output_type": "execute_result"
    }
   ],
   "source": [
    "data['migration'].value_counts()"
   ]
  },
  {
   "cell_type": "code",
   "execution_count": 34,
   "id": "99689568",
   "metadata": {},
   "outputs": [
    {
     "data": {
      "image/png": "[encoded data removed]",
      "text/plain": [
       "<Figure size 432x288 with 1 Axes>"
      ]
     },
     "metadata": {},
     "output_type": "display_data"
    },
    {
     "data": {
      "text/plain": [
       "<Figure size 432x288 with 0 Axes>"
      ]
     },
     "metadata": {},
     "output_type": "display_data"
    }
   ],
   "source": [
    "sns.countplot(x='migration',data=data, palette='hls')\n",
    "plt.show()\n",
    "plt.savefig('count_plot')"
   ]
  },
  {
   "cell_type": "code",
   "execution_count": 35,
   "id": "4f96e7ca",
   "metadata": {},
   "outputs": [
    {
     "name": "stdout",
     "output_type": "stream",
     "text": [
      "percentage of no migration is 52.6\n",
      "percentage of migration 47.4\n"
     ]
    }
   ],
   "source": [
    "count_no_sub = len(data[data['migration']==0])\n",
    "count_sub = len(data[data['migration']==1])\n",
    "pct_of_no_sub = count_no_sub/(count_no_sub+count_sub)\n",
    "print(\"percentage of no migration is\", pct_of_no_sub*100)\n",
    "pct_of_sub = count_sub/(count_no_sub+count_sub)\n",
    "print(\"percentage of migration\", pct_of_sub*100)"
   ]
  },
  {
   "cell_type": "code",
   "execution_count": 36,
   "id": "7c951cb8",
   "metadata": {},
   "outputs": [
    {
     "data": {
      "text/html": [
       "<div>\n",
       "<style scoped>\n",
       "    .dataframe tbody tr th:only-of-type {\n",
       "        vertical-align: middle;\n",
       "    }\n",
       "\n",
       "    .dataframe tbody tr th {\n",
       "        vertical-align: top;\n",
       "    }\n",
       "\n",
       "    .dataframe thead th {\n",
       "        text-align: right;\n",
       "    }\n",
       "</style>\n",
       "<table border=\"1\" class=\"dataframe\">\n",
       "  <thead>\n",
       "    <tr style=\"text-align: right;\">\n",
       "      <th></th>\n",
       "      <th>agri_field_size</th>\n",
       "      <th>members_family</th>\n",
       "      <th>caste</th>\n",
       "      <th>alt_occu</th>\n",
       "    </tr>\n",
       "    <tr>\n",
       "      <th>migration</th>\n",
       "      <th></th>\n",
       "      <th></th>\n",
       "      <th></th>\n",
       "      <th></th>\n",
       "    </tr>\n",
       "  </thead>\n",
       "  <tbody>\n",
       "    <tr>\n",
       "      <th>0</th>\n",
       "      <td>47.768061</td>\n",
       "      <td>5.296578</td>\n",
       "      <td>2.292776</td>\n",
       "      <td>0.596958</td>\n",
       "    </tr>\n",
       "    <tr>\n",
       "      <th>1</th>\n",
       "      <td>33.371308</td>\n",
       "      <td>6.476793</td>\n",
       "      <td>2.270042</td>\n",
       "      <td>0.447257</td>\n",
       "    </tr>\n",
       "  </tbody>\n",
       "</table>\n",
       "</div>"
      ],
      "text/plain": [
       "           agri_field_size  members_family     caste  alt_occu\n",
       "migration                                                     \n",
       "0                47.768061        5.296578  2.292776  0.596958\n",
       "1                33.371308        6.476793  2.270042  0.447257"
      ]
     },
     "execution_count": 36,
     "metadata": {},
     "output_type": "execute_result"
    }
   ],
   "source": [
    "data.groupby('migration').mean()"
   ]
  },
  {
   "cell_type": "markdown",
   "id": "acb542da",
   "metadata": {},
   "source": [
    "In the above table, we have collected the mean of the distribution according to migration. People who have migrated have an average land value of 33.37, and those who didn't migrate have an average land value of 47.768. Similarly, we can see the results for the rest of the variables. "
   ]
  },
  {
   "cell_type": "markdown",
   "id": "876e50cd",
   "metadata": {},
   "source": [
    "Now, we will plot a graph of migration behaviour w.r.t. family members:"
   ]
  },
  {
   "cell_type": "code",
   "execution_count": 37,
   "id": "d1b4c593",
   "metadata": {},
   "outputs": [
    {
     "data": {
      "image/png": "[encoded data removed]",
      "text/plain": [
       "<Figure size 432x288 with 1 Axes>"
      ]
     },
     "metadata": {
      "needs_background": "light"
     },
     "output_type": "display_data"
    }
   ],
   "source": [
    "%matplotlib inline\n",
    "pd.crosstab(data.members_family,data.migration).plot(kind='bar')\n",
    "plt.title('Migration behaviour')\n",
    "plt.xlabel('Family members')\n",
    "plt.ylabel('Frequency of Migration')\n",
    "plt.savefig('purchase_fre_job')"
   ]
  },
  {
   "cell_type": "markdown",
   "id": "eb5bbabc",
   "metadata": {},
   "source": [
    "With the help of the above graph, we can that as the number of family members increases, people start migrating. People who have less family members migrate, and people having more family members tend to migrate."
   ]
  },
  {
   "cell_type": "markdown",
   "id": "5e42a2ea",
   "metadata": {},
   "source": [
    "This is a stacked bar chart of agricultural land versus migration behaviour. We see that people who have more land do not migrate, and people have less or no agricultural land, they migrate."
   ]
  },
  {
   "cell_type": "code",
   "execution_count": 38,
   "id": "e6d99878",
   "metadata": {},
   "outputs": [
    {
     "data": {
      "image/png": "[encoded data removed]",
      "text/plain": [
       "<Figure size 432x288 with 1 Axes>"
      ]
     },
     "metadata": {
      "needs_background": "light"
     },
     "output_type": "display_data"
    }
   ],
   "source": [
    "table=pd.crosstab(data.agri_field_size,data.migration)\n",
    "table.div(table.sum(1).astype(float), axis=0).plot(kind='bar', stacked=True)\n",
    "plt.title('Stacked Bar Chart of Agrifield vs Migration')\n",
    "plt.xlabel('Agri field')\n",
    "plt.ylabel('Migration')\n",
    "plt.savefig('agri_vsmigration')"
   ]
  },
  {
   "cell_type": "code",
   "execution_count": 41,
   "id": "918e020d",
   "metadata": {},
   "outputs": [
    {
     "name": "stdout",
     "output_type": "stream",
     "text": [
      "Optimization terminated successfully.\n",
      "         Current function value: 0.394439\n",
      "         Iterations 7\n",
      "                         Results: Logit\n",
      "=================================================================\n",
      "Model:              Logit            Pseudo R-squared: 0.430     \n",
      "Dependent Variable: migration        AIC:              402.4388  \n",
      "Date:               2021-11-11 19:03 BIC:              419.2972  \n",
      "No. Observations:   500              Log-Likelihood:   -197.22   \n",
      "Df Model:           3                LL-Null:          -345.90   \n",
      "Df Residuals:       496              LLR p-value:      3.7157e-64\n",
      "Converged:          1.0000           Scale:            1.0000    \n",
      "No. Iterations:     7.0000                                       \n",
      "-----------------------------------------------------------------\n",
      "                  Coef.  Std.Err.    z     P>|z|   [0.025  0.975]\n",
      "-----------------------------------------------------------------\n",
      "agri_field_size  -0.1775   0.0164 -10.8216 0.0000 -0.2096 -0.1453\n",
      "members_family    0.8022   0.0795  10.0945 0.0000  0.6465  0.9580\n",
      "alt_occu         -0.3341   0.2458  -1.3592 0.1741 -0.8159  0.1477\n",
      "caste             0.9802   0.1554   6.3090 0.0000  0.6757  1.2847\n",
      "=================================================================\n",
      "\n"
     ]
    }
   ],
   "source": [
    "cols=['agri_field_size', 'members_family', 'alt_occu', 'caste']\n",
    "X=data[cols]\n",
    "y=data['migration']\n",
    "import statsmodels.api as sm\n",
    "logit_model=sm.Logit(y,X)\n",
    "result=logit_model.fit()\n",
    "print(result.summary2())"
   ]
  },
  {
   "cell_type": "code",
   "execution_count": 42,
   "id": "5e286952",
   "metadata": {},
   "outputs": [
    {
     "name": "stdout",
     "output_type": "stream",
     "text": [
      "Optimization terminated successfully.\n",
      "         Current function value: 0.394439\n",
      "         Iterations 7\n",
      "                         Results: Logit\n",
      "=================================================================\n",
      "Model:              Logit            Pseudo R-squared: 0.430     \n",
      "Dependent Variable: migration        AIC:              402.4388  \n",
      "Date:               2021-11-11 19:03 BIC:              419.2972  \n",
      "No. Observations:   500              Log-Likelihood:   -197.22   \n",
      "Df Model:           3                LL-Null:          -345.90   \n",
      "Df Residuals:       496              LLR p-value:      3.7157e-64\n",
      "Converged:          1.0000           Scale:            1.0000    \n",
      "No. Iterations:     7.0000                                       \n",
      "-----------------------------------------------------------------\n",
      "                  Coef.  Std.Err.    z     P>|z|   [0.025  0.975]\n",
      "-----------------------------------------------------------------\n",
      "agri_field_size  -0.1775   0.0164 -10.8216 0.0000 -0.2096 -0.1453\n",
      "members_family    0.8022   0.0795  10.0945 0.0000  0.6465  0.9580\n",
      "caste             0.9802   0.1554   6.3090 0.0000  0.6757  1.2847\n",
      "alt_occu         -0.3341   0.2458  -1.3592 0.1741 -0.8159  0.1477\n",
      "=================================================================\n",
      "\n"
     ]
    }
   ],
   "source": [
    "cols=['agri_field_size', 'members_family', 'caste', 'alt_occu'] \n",
    "X=data[cols]\n",
    "y=data['migration']\n",
    "import statsmodels.api as sm\n",
    "logit_model=sm.Logit(y,X)\n",
    "result=logit_model.fit()\n",
    "print(result.summary2())"
   ]
  },
  {
   "cell_type": "markdown",
   "id": "d2f3be30",
   "metadata": {},
   "source": [
    "# Calculating the accuracy of the model\n"
   ]
  },
  {
   "cell_type": "code",
   "execution_count": 43,
   "id": "4024361f",
   "metadata": {},
   "outputs": [
    {
     "data": {
      "text/plain": [
       "LogisticRegression()"
      ]
     },
     "execution_count": 43,
     "metadata": {},
     "output_type": "execute_result"
    }
   ],
   "source": [
    "from sklearn.linear_model import LogisticRegression\n",
    "from sklearn import metrics\n",
    "X_train, X_test, y_train, y_test = train_test_split(X, y, test_size=0.3, random_state=0)\n",
    "logreg = LogisticRegression()\n",
    "logreg.fit(X_train, y_train)"
   ]
  },
  {
   "cell_type": "code",
   "execution_count": 44,
   "id": "7f2a9750",
   "metadata": {},
   "outputs": [
    {
     "name": "stdout",
     "output_type": "stream",
     "text": [
      "Accuracy of logistic regression classifier on test set: 0.97\n"
     ]
    }
   ],
   "source": [
    "y_pred = logreg.predict(X_test)\n",
    "print('Accuracy of logistic regression classifier on test set: {:.2f}'.format(logreg.score(X_test, y_test)))"
   ]
  },
  {
   "cell_type": "code",
   "execution_count": 45,
   "id": "c3592599",
   "metadata": {},
   "outputs": [
    {
     "name": "stdout",
     "output_type": "stream",
     "text": [
      "[[78  2]\n",
      " [ 2 68]]\n"
     ]
    }
   ],
   "source": [
    "from sklearn.metrics import confusion_matrix\n",
    "confusion_matrix = confusion_matrix(y_test, y_pred)\n",
    "print(confusion_matrix)"
   ]
  },
  {
   "cell_type": "code",
   "execution_count": 46,
   "id": "cd2e08a6",
   "metadata": {},
   "outputs": [
    {
     "name": "stdout",
     "output_type": "stream",
     "text": [
      "              precision    recall  f1-score   support\n",
      "\n",
      "           0       0.97      0.97      0.97        80\n",
      "           1       0.97      0.97      0.97        70\n",
      "\n",
      "    accuracy                           0.97       150\n",
      "   macro avg       0.97      0.97      0.97       150\n",
      "weighted avg       0.97      0.97      0.97       150\n",
      "\n"
     ]
    }
   ],
   "source": [
    "from sklearn.metrics import classification_report\n",
    "print(classification_report(y_test, y_pred))"
   ]
  },
  {
   "cell_type": "code",
   "execution_count": 47,
   "id": "92a6fa0c",
   "metadata": {},
   "outputs": [
    {
     "data": {
      "image/png": "[encoded data removed]",
      "text/plain": [
       "<Figure size 432x288 with 1 Axes>"
      ]
     },
     "metadata": {
      "needs_background": "light"
     },
     "output_type": "display_data"
    }
   ],
   "source": [
    "from sklearn.metrics import roc_auc_score\n",
    "from sklearn.metrics import roc_curve\n",
    "logit_roc_auc = roc_auc_score(y_test, logreg.predict(X_test))\n",
    "fpr, tpr, thresholds = roc_curve(y_test, logreg.predict_proba(X_test)[:,1])\n",
    "plt.figure()\n",
    "plt.plot(fpr, tpr, label='Logistic Regression (area = %0.2f)' % logit_roc_auc)\n",
    "plt.plot([0, 1], [0, 1],'r--')\n",
    "plt.xlim([0.0, 1.0])\n",
    "plt.ylim([0.0, 1.05])\n",
    "plt.xlabel('False Positive Rate')\n",
    "plt.ylabel('True Positive Rate')\n",
    "plt.title('Receiver operating characteristic')\n",
    "plt.legend(loc=\"lower right\")\n",
    "plt.savefig('Log_ROC')\n",
    "plt.show()"
   ]
  },
  {
   "cell_type": "code",
   "execution_count": null,
   "id": "87bac5b2",
   "metadata": {},
   "outputs": [],
   "source": []
  }
 ],
 "metadata": {
  "kernelspec": {
   "display_name": "Python 3 (ipykernel)",
   "language": "python",
   "name": "python3"
  },
  "language_info": {
   "codemirror_mode": {
    "name": "ipython",
    "version": 3
   },
   "file_extension": ".py",
   "mimetype": "text/x-python",
   "name": "python",
   "nbconvert_exporter": "python",
   "pygments_lexer": "ipython3",
   "version": "3.8.10"
  }
 },
 "nbformat": 4,
 "nbformat_minor": 5
}
